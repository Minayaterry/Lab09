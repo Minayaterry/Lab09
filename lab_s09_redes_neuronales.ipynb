{
  "cells": [
    {
      "cell_type": "markdown",
      "metadata": {
        "id": "view-in-github",
        "colab_type": "text"
      },
      "source": [
        "<a href=\"https://colab.research.google.com/github/Minayaterry/Lab09/blob/Develop/lab_s09_redes_neuronales.ipynb\" target=\"_parent\"><img src=\"https://colab.research.google.com/assets/colab-badge.svg\" alt=\"Open In Colab\"/></a>"
      ]
    },
    {
      "cell_type": "markdown",
      "id": "de88027f",
      "metadata": {
        "id": "de88027f"
      },
      "source": [
        "# Semana 9: Redes Neuronales Artificiales\n",
        "**Nombre:** Minaya Torres Terry"
      ]
    },
    {
      "cell_type": "code",
      "source": [
        "\n",
        "# PARTE A - Clasificación de cáncer de mama (desde el dataset original de UCI)\n",
        "\n",
        "import pandas as pd\n",
        "from sklearn.model_selection import train_test_split\n",
        "from sklearn.preprocessing import StandardScaler\n",
        "from sklearn.neural_network import MLPClassifier\n",
        "from sklearn.metrics import classification_report, accuracy_score"
      ],
      "metadata": {
        "id": "qUc1EcZtYADT"
      },
      "id": "qUc1EcZtYADT",
      "execution_count": null,
      "outputs": []
    },
    {
      "cell_type": "code",
      "source": [
        "# Cargar datos desde el repositorio UCI\n",
        "url = \"https://archive.ics.uci.edu/ml/machine-learning-databases/breast-cancer-wisconsin/breast-cancer-wisconsin.data\"\n",
        "\n",
        "# Asignar nombres a las columnas según la descripción del dataset\n",
        "column_names = ['ID', 'Clump Thickness', 'Uniformity of Cell Size',\n",
        "                'Uniformity of Cell Shape', 'Marginal Adhesion',\n",
        "                'Single Epithelial Cell Size', 'Bare Nuclei',\n",
        "                'Bland Chromatin', 'Normal Nucleoli', 'Mitoses', 'Class']\n",
        "\n",
        "data = pd.read_csv(url, names=column_names)\n"
      ],
      "metadata": {
        "id": "F97kbyerYI1j"
      },
      "id": "F97kbyerYI1j",
      "execution_count": null,
      "outputs": []
    },
    {
      "cell_type": "code",
      "source": [
        "# Elimanamos los valores faltantes\n",
        "data.replace('?', pd.NA, inplace=True)\n",
        "data.dropna(inplace=True)"
      ],
      "metadata": {
        "id": "eD2Soh-7Yp8U"
      },
      "id": "eD2Soh-7Yp8U",
      "execution_count": null,
      "outputs": []
    },
    {
      "cell_type": "code",
      "source": [
        "# Convertimos a tipo numérico\n",
        "data['Bare Nuclei'] = pd.to_numeric(data['Bare Nuclei'])"
      ],
      "metadata": {
        "id": "-Kw-_B9YYvIo"
      },
      "id": "-Kw-_B9YYvIo",
      "execution_count": null,
      "outputs": []
    },
    {
      "cell_type": "code",
      "source": [
        "# Separaramos características y etiqueta\n",
        "X = data.drop(['ID', 'Class'], axis=1)\n",
        "y = data['Class'].replace({2: 0, 4: 1})  # 2 = benigno (0), 4 = maligno (1)"
      ],
      "metadata": {
        "id": "z6wVBWY5Y0D-"
      },
      "id": "z6wVBWY5Y0D-",
      "execution_count": null,
      "outputs": []
    },
    {
      "cell_type": "code",
      "execution_count": null,
      "id": "9dd1ab43",
      "metadata": {
        "colab": {
          "base_uri": "https://localhost:8080/"
        },
        "id": "9dd1ab43",
        "outputId": "61184490-2c6d-4f32-e320-4a722496e853"
      },
      "outputs": [
        {
          "output_type": "stream",
          "name": "stdout",
          "text": [
            "Accuracy: 0.9708029197080292\n",
            "              precision    recall  f1-score   support\n",
            "\n",
            "           0       0.97      0.97      0.97        79\n",
            "           1       0.97      0.97      0.97        58\n",
            "\n",
            "    accuracy                           0.97       137\n",
            "   macro avg       0.97      0.97      0.97       137\n",
            "weighted avg       0.97      0.97      0.97       137\n",
            "\n"
          ]
        }
      ],
      "source": [
        "# Dividimos en entrenamiento y prueba\n",
        "X_train, X_test, y_train, y_test = train_test_split(X, y, test_size=0.2, random_state=42)\n",
        "\n",
        "# Escalamos los datos\n",
        "scaler = StandardScaler()\n",
        "X_train_scaled = scaler.fit_transform(X_train)\n",
        "X_test_scaled = scaler.transform(X_test)\n",
        "\n",
        "# Creamos y entrenamos el modelo\n",
        "mlp = MLPClassifier(hidden_layer_sizes=(30, 30), max_iter=1000, activation='relu', solver='adam', random_state=42)\n",
        "mlp.fit(X_train_scaled, y_train)\n",
        "\n",
        "# Evaluación\n",
        "y_pred = mlp.predict(X_test_scaled)\n",
        "print(\"Accuracy:\", accuracy_score(y_test, y_pred))\n",
        "print(classification_report(y_test, y_pred))\n"
      ]
    },
    {
      "cell_type": "code",
      "source": [],
      "metadata": {
        "id": "_TNOj_vZlfjt"
      },
      "id": "_TNOj_vZlfjt",
      "execution_count": null,
      "outputs": []
    },
    {
      "cell_type": "code",
      "source": [
        "# PARTE B - Clasificación de ropa con red neuronal convolucional (CNN)\n",
        "\n",
        "import tensorflow as tf\n",
        "from tensorflow.keras import layers, models\n",
        "from tensorflow.keras.datasets import fashion_mnist\n",
        "from tensorflow.keras.utils import to_categorical\n"
      ],
      "metadata": {
        "id": "qPVMPkfXY7tn"
      },
      "id": "qPVMPkfXY7tn",
      "execution_count": null,
      "outputs": []
    },
    {
      "cell_type": "code",
      "source": [
        "# Cargando el  dataset\n",
        "(train_images, train_labels), (test_images, test_labels) = fashion_mnist.load_data()\n",
        "\n",
        "# Preprocesamiento\n",
        "train_images = train_images.reshape((60000, 28, 28, 1)).astype('float32') / 255\n",
        "test_images = test_images.reshape((10000, 28, 28, 1)).astype('float32') / 255\n",
        "train_labels = to_categorical(train_labels)\n",
        "test_labels = to_categorical(test_labels)\n"
      ],
      "metadata": {
        "colab": {
          "base_uri": "https://localhost:8080/"
        },
        "id": "-657sRgmY_x6",
        "outputId": "34504fc5-c0d3-4d8c-e576-f5b42353dba4"
      },
      "id": "-657sRgmY_x6",
      "execution_count": null,
      "outputs": [
        {
          "output_type": "stream",
          "name": "stdout",
          "text": [
            "Downloading data from https://storage.googleapis.com/tensorflow/tf-keras-datasets/train-labels-idx1-ubyte.gz\n",
            "\u001b[1m29515/29515\u001b[0m \u001b[32m━━━━━━━━━━━━━━━━━━━━\u001b[0m\u001b[37m\u001b[0m \u001b[1m0s\u001b[0m 0us/step\n",
            "Downloading data from https://storage.googleapis.com/tensorflow/tf-keras-datasets/train-images-idx3-ubyte.gz\n",
            "\u001b[1m26421880/26421880\u001b[0m \u001b[32m━━━━━━━━━━━━━━━━━━━━\u001b[0m\u001b[37m\u001b[0m \u001b[1m0s\u001b[0m 0us/step\n",
            "Downloading data from https://storage.googleapis.com/tensorflow/tf-keras-datasets/t10k-labels-idx1-ubyte.gz\n",
            "\u001b[1m5148/5148\u001b[0m \u001b[32m━━━━━━━━━━━━━━━━━━━━\u001b[0m\u001b[37m\u001b[0m \u001b[1m0s\u001b[0m 0us/step\n",
            "Downloading data from https://storage.googleapis.com/tensorflow/tf-keras-datasets/t10k-images-idx3-ubyte.gz\n",
            "\u001b[1m4422102/4422102\u001b[0m \u001b[32m━━━━━━━━━━━━━━━━━━━━\u001b[0m\u001b[37m\u001b[0m \u001b[1m0s\u001b[0m 0us/step\n"
          ]
        }
      ]
    },
    {
      "cell_type": "code",
      "source": [],
      "metadata": {
        "id": "N90Ym9PhZn64"
      },
      "id": "N90Ym9PhZn64",
      "execution_count": null,
      "outputs": []
    },
    {
      "cell_type": "code",
      "execution_count": null,
      "id": "889eb87e",
      "metadata": {
        "colab": {
          "base_uri": "https://localhost:8080/"
        },
        "id": "889eb87e",
        "outputId": "3514a56a-e344-466f-d630-511fce75e86e"
      },
      "outputs": [
        {
          "output_type": "stream",
          "name": "stderr",
          "text": [
            "/usr/local/lib/python3.11/dist-packages/keras/src/layers/convolutional/base_conv.py:107: UserWarning: Do not pass an `input_shape`/`input_dim` argument to a layer. When using Sequential models, prefer using an `Input(shape)` object as the first layer in the model instead.\n",
            "  super().__init__(activity_regularizer=activity_regularizer, **kwargs)\n"
          ]
        },
        {
          "output_type": "stream",
          "name": "stdout",
          "text": [
            "Epoch 1/5\n",
            "\u001b[1m750/750\u001b[0m \u001b[32m━━━━━━━━━━━━━━━━━━━━\u001b[0m\u001b[37m\u001b[0m \u001b[1m49s\u001b[0m 62ms/step - accuracy: 0.7228 - loss: 0.7814 - val_accuracy: 0.8366 - val_loss: 0.4352\n",
            "Epoch 2/5\n",
            "\u001b[1m750/750\u001b[0m \u001b[32m━━━━━━━━━━━━━━━━━━━━\u001b[0m\u001b[37m\u001b[0m \u001b[1m80s\u001b[0m 59ms/step - accuracy: 0.8653 - loss: 0.3762 - val_accuracy: 0.8773 - val_loss: 0.3457\n",
            "Epoch 3/5\n",
            "\u001b[1m750/750\u001b[0m \u001b[32m━━━━━━━━━━━━━━━━━━━━\u001b[0m\u001b[37m\u001b[0m \u001b[1m79s\u001b[0m 56ms/step - accuracy: 0.8883 - loss: 0.3095 - val_accuracy: 0.8888 - val_loss: 0.3122\n",
            "Epoch 4/5\n",
            "\u001b[1m750/750\u001b[0m \u001b[32m━━━━━━━━━━━━━━━━━━━━\u001b[0m\u001b[37m\u001b[0m \u001b[1m84s\u001b[0m 59ms/step - accuracy: 0.8978 - loss: 0.2811 - val_accuracy: 0.8914 - val_loss: 0.3004\n",
            "Epoch 5/5\n",
            "\u001b[1m750/750\u001b[0m \u001b[32m━━━━━━━━━━━━━━━━━━━━\u001b[0m\u001b[37m\u001b[0m \u001b[1m79s\u001b[0m 55ms/step - accuracy: 0.9052 - loss: 0.2587 - val_accuracy: 0.8960 - val_loss: 0.2808\n",
            "\u001b[1m313/313\u001b[0m \u001b[32m━━━━━━━━━━━━━━━━━━━━\u001b[0m\u001b[37m\u001b[0m \u001b[1m3s\u001b[0m 9ms/step - accuracy: 0.8956 - loss: 0.2984\n",
            "Test Accuracy: 0.8956000208854675\n"
          ]
        }
      ],
      "source": [
        "# Construcción del modelo CNN\n",
        "model = models.Sequential([\n",
        "    layers.Conv2D(32, (3, 3), activation='relu', input_shape=(28, 28, 1)),\n",
        "    layers.MaxPooling2D((2, 2)),\n",
        "    layers.Conv2D(64, (3, 3), activation='relu'),\n",
        "    layers.MaxPooling2D((2, 2)),\n",
        "    layers.Flatten(),\n",
        "    layers.Dense(64, activation='relu'),\n",
        "    layers.Dense(10, activation='softmax')\n",
        "])\n",
        "\n",
        "# Compilación y entrenamiento\n",
        "model.compile(optimizer='adam',\n",
        "              loss='categorical_crossentropy',\n",
        "              metrics=['accuracy'])\n",
        "\n",
        "model.fit(train_images, train_labels, epochs=5, batch_size=64, validation_split=0.2)\n",
        "\n",
        "# Evaluación\n",
        "test_loss, test_acc = model.evaluate(test_images, test_labels)\n",
        "print(f\"Test Accuracy: {test_acc}\")\n"
      ]
    }
  ],
  "metadata": {
    "colab": {
      "provenance": [],
      "include_colab_link": true
    },
    "language_info": {
      "name": "python"
    },
    "kernelspec": {
      "name": "python3",
      "display_name": "Python 3"
    }
  },
  "nbformat": 4,
  "nbformat_minor": 5
}